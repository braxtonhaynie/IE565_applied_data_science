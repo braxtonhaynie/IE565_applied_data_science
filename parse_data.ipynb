{
 "cells": [
  {
   "cell_type": "code",
   "execution_count": 27,
   "id": "18af7b3d",
   "metadata": {},
   "outputs": [],
   "source": [
    "%matplotlib inline\n",
    "import matplotlib.pyplot as plt\n",
    "import pandas as pd\n",
    "import numpy as np\n",
    "import seaborn as sns\n",
    "from datetime import datetime, date\n",
    "import time"
   ]
  },
  {
   "cell_type": "code",
   "execution_count": 2,
   "id": "f53c10b6",
   "metadata": {},
   "outputs": [
    {
     "name": "stdout",
     "output_type": "stream",
     "text": [
      "36355\n"
     ]
    },
    {
     "name": "stderr",
     "output_type": "stream",
     "text": [
      "/var/folders/rv/4pnymp6j7bd30dklzsj4ykr40000gn/T/ipykernel_64937/1663778059.py:2: DtypeWarning: Columns (15) have mixed types. Specify dtype option on import or set low_memory=False.\n",
      "  df = pd.read_csv('../FARS2019NationalCSV/Person.CSV', encoding=\"ISO-8859-1\")\n"
     ]
    },
    {
     "data": {
      "text/html": [
       "<div>\n",
       "<style scoped>\n",
       "    .dataframe tbody tr th:only-of-type {\n",
       "        vertical-align: middle;\n",
       "    }\n",
       "\n",
       "    .dataframe tbody tr th {\n",
       "        vertical-align: top;\n",
       "    }\n",
       "\n",
       "    .dataframe thead th {\n",
       "        text-align: right;\n",
       "    }\n",
       "</style>\n",
       "<table border=\"1\" class=\"dataframe\">\n",
       "  <thead>\n",
       "    <tr style=\"text-align: right;\">\n",
       "      <th></th>\n",
       "      <th>STATE</th>\n",
       "      <th>STATENAME</th>\n",
       "      <th>ST_CASE</th>\n",
       "      <th>VE_FORMS</th>\n",
       "      <th>VEH_NO</th>\n",
       "      <th>PER_NO</th>\n",
       "      <th>STR_VEH</th>\n",
       "      <th>COUNTY</th>\n",
       "      <th>DAY</th>\n",
       "      <th>DAYNAME</th>\n",
       "      <th>...</th>\n",
       "      <th>WORK_INJ</th>\n",
       "      <th>WORK_INJNAME</th>\n",
       "      <th>HISPANIC</th>\n",
       "      <th>HISPANICNAME</th>\n",
       "      <th>LOCATION</th>\n",
       "      <th>LOCATIONNAME</th>\n",
       "      <th>HELM_USE</th>\n",
       "      <th>HELM_USENAME</th>\n",
       "      <th>HELM_MIS</th>\n",
       "      <th>HELM_MISNAME</th>\n",
       "    </tr>\n",
       "  </thead>\n",
       "  <tbody>\n",
       "    <tr>\n",
       "      <th>1</th>\n",
       "      <td>1</td>\n",
       "      <td>Alabama</td>\n",
       "      <td>10001</td>\n",
       "      <td>2</td>\n",
       "      <td>1</td>\n",
       "      <td>2</td>\n",
       "      <td>0</td>\n",
       "      <td>81</td>\n",
       "      <td>7</td>\n",
       "      <td>7</td>\n",
       "      <td>...</td>\n",
       "      <td>0</td>\n",
       "      <td>No</td>\n",
       "      <td>7</td>\n",
       "      <td>Non-Hispanic</td>\n",
       "      <td>0</td>\n",
       "      <td>Occupant of a Motor Vehicle</td>\n",
       "      <td>20</td>\n",
       "      <td>Not Applicable</td>\n",
       "      <td>7</td>\n",
       "      <td>None Used/Not Applicable</td>\n",
       "    </tr>\n",
       "    <tr>\n",
       "      <th>3</th>\n",
       "      <td>1</td>\n",
       "      <td>Alabama</td>\n",
       "      <td>10002</td>\n",
       "      <td>2</td>\n",
       "      <td>1</td>\n",
       "      <td>1</td>\n",
       "      <td>0</td>\n",
       "      <td>55</td>\n",
       "      <td>23</td>\n",
       "      <td>23</td>\n",
       "      <td>...</td>\n",
       "      <td>0</td>\n",
       "      <td>No</td>\n",
       "      <td>7</td>\n",
       "      <td>Non-Hispanic</td>\n",
       "      <td>0</td>\n",
       "      <td>Occupant of a Motor Vehicle</td>\n",
       "      <td>20</td>\n",
       "      <td>Not Applicable</td>\n",
       "      <td>7</td>\n",
       "      <td>None Used/Not Applicable</td>\n",
       "    </tr>\n",
       "    <tr>\n",
       "      <th>6</th>\n",
       "      <td>1</td>\n",
       "      <td>Alabama</td>\n",
       "      <td>10003</td>\n",
       "      <td>3</td>\n",
       "      <td>1</td>\n",
       "      <td>2</td>\n",
       "      <td>0</td>\n",
       "      <td>29</td>\n",
       "      <td>22</td>\n",
       "      <td>22</td>\n",
       "      <td>...</td>\n",
       "      <td>0</td>\n",
       "      <td>No</td>\n",
       "      <td>7</td>\n",
       "      <td>Non-Hispanic</td>\n",
       "      <td>0</td>\n",
       "      <td>Occupant of a Motor Vehicle</td>\n",
       "      <td>20</td>\n",
       "      <td>Not Applicable</td>\n",
       "      <td>7</td>\n",
       "      <td>None Used/Not Applicable</td>\n",
       "    </tr>\n",
       "    <tr>\n",
       "      <th>9</th>\n",
       "      <td>1</td>\n",
       "      <td>Alabama</td>\n",
       "      <td>10004</td>\n",
       "      <td>1</td>\n",
       "      <td>0</td>\n",
       "      <td>1</td>\n",
       "      <td>1</td>\n",
       "      <td>55</td>\n",
       "      <td>22</td>\n",
       "      <td>22</td>\n",
       "      <td>...</td>\n",
       "      <td>0</td>\n",
       "      <td>No</td>\n",
       "      <td>7</td>\n",
       "      <td>Non-Hispanic</td>\n",
       "      <td>11</td>\n",
       "      <td>Not at Intersection - On Roadway, Not in Marke...</td>\n",
       "      <td>96</td>\n",
       "      <td>Not a Motor Vehicle Occupant</td>\n",
       "      <td>8</td>\n",
       "      <td>Not a Motor Vehicle Occupant</td>\n",
       "    </tr>\n",
       "    <tr>\n",
       "      <th>11</th>\n",
       "      <td>1</td>\n",
       "      <td>Alabama</td>\n",
       "      <td>10005</td>\n",
       "      <td>1</td>\n",
       "      <td>1</td>\n",
       "      <td>1</td>\n",
       "      <td>0</td>\n",
       "      <td>3</td>\n",
       "      <td>18</td>\n",
       "      <td>18</td>\n",
       "      <td>...</td>\n",
       "      <td>0</td>\n",
       "      <td>No</td>\n",
       "      <td>7</td>\n",
       "      <td>Non-Hispanic</td>\n",
       "      <td>0</td>\n",
       "      <td>Occupant of a Motor Vehicle</td>\n",
       "      <td>20</td>\n",
       "      <td>Not Applicable</td>\n",
       "      <td>7</td>\n",
       "      <td>None Used/Not Applicable</td>\n",
       "    </tr>\n",
       "  </tbody>\n",
       "</table>\n",
       "<p>5 rows × 119 columns</p>\n",
       "</div>"
      ],
      "text/plain": [
       "    STATE STATENAME  ST_CASE  VE_FORMS  VEH_NO  PER_NO  STR_VEH  COUNTY  DAY  \\\n",
       "1       1   Alabama    10001         2       1       2        0      81    7   \n",
       "3       1   Alabama    10002         2       1       1        0      55   23   \n",
       "6       1   Alabama    10003         3       1       2        0      29   22   \n",
       "9       1   Alabama    10004         1       0       1        1      55   22   \n",
       "11      1   Alabama    10005         1       1       1        0       3   18   \n",
       "\n",
       "    DAYNAME  ...  WORK_INJ WORK_INJNAME  HISPANIC  HISPANICNAME  LOCATION  \\\n",
       "1         7  ...         0           No         7  Non-Hispanic         0   \n",
       "3        23  ...         0           No         7  Non-Hispanic         0   \n",
       "6        22  ...         0           No         7  Non-Hispanic         0   \n",
       "9        22  ...         0           No         7  Non-Hispanic        11   \n",
       "11       18  ...         0           No         7  Non-Hispanic         0   \n",
       "\n",
       "                                         LOCATIONNAME  HELM_USE  \\\n",
       "1                         Occupant of a Motor Vehicle        20   \n",
       "3                         Occupant of a Motor Vehicle        20   \n",
       "6                         Occupant of a Motor Vehicle        20   \n",
       "9   Not at Intersection - On Roadway, Not in Marke...        96   \n",
       "11                        Occupant of a Motor Vehicle        20   \n",
       "\n",
       "                    HELM_USENAME  HELM_MIS                  HELM_MISNAME  \n",
       "1                 Not Applicable         7      None Used/Not Applicable  \n",
       "3                 Not Applicable         7      None Used/Not Applicable  \n",
       "6                 Not Applicable         7      None Used/Not Applicable  \n",
       "9   Not a Motor Vehicle Occupant         8  Not a Motor Vehicle Occupant  \n",
       "11                Not Applicable         7      None Used/Not Applicable  \n",
       "\n",
       "[5 rows x 119 columns]"
      ]
     },
     "execution_count": 2,
     "metadata": {},
     "output_type": "execute_result"
    }
   ],
   "source": [
    "# sanity check get total number of fatalities\n",
    "df = pd.read_csv('../FARS2019NationalCSV/Person.CSV', encoding=\"ISO-8859-1\")\n",
    "df = df.loc[df['INJ_SEV'] == 4]\n",
    "print(len(df))\n",
    "df.head(5)"
   ]
  },
  {
   "cell_type": "markdown",
   "id": "fd6926d2",
   "metadata": {},
   "source": [
    "### Get fatalities"
   ]
  },
  {
   "cell_type": "code",
   "execution_count": 52,
   "id": "31945854",
   "metadata": {},
   "outputs": [
    {
     "name": "stderr",
     "output_type": "stream",
     "text": [
      "/var/folders/rv/4pnymp6j7bd30dklzsj4ykr40000gn/T/ipykernel_68413/2660047324.py:2: DtypeWarning: Columns (56,58,193,195) have mixed types. Specify dtype option on import or set low_memory=False.\n",
      "  df1 = pd.read_csv('../FARS2019NationalCSV/vehicle.csv', encoding=\"ISO-8859-1\")\n"
     ]
    },
    {
     "name": "stdout",
     "output_type": "stream",
     "text": [
      "51623\n",
      "15711\n",
      "1      4\n",
      "6      4\n",
      "18     4\n",
      "21     4\n",
      "23     4\n",
      "46     4\n",
      "64     4\n",
      "78     4\n",
      "85     4\n",
      "98     4\n",
      "101    4\n",
      "104    4\n",
      "108    4\n",
      "110    4\n",
      "113    4\n",
      "114    4\n",
      "118    4\n",
      "120    4\n",
      "139    4\n",
      "145    4\n",
      "Name: INJ_SEV, dtype: int64\n",
      "1      7\n",
      "6      7\n",
      "18     0\n",
      "21     7\n",
      "23     0\n",
      "46     0\n",
      "64     7\n",
      "78     7\n",
      "85     7\n",
      "98     0\n",
      "101    0\n",
      "104    7\n",
      "108    0\n",
      "110    7\n",
      "113    7\n",
      "114    7\n",
      "118    0\n",
      "120    7\n",
      "139    0\n",
      "145    7\n",
      "Name: DOA, dtype: int64\n",
      "16125\n"
     ]
    },
    {
     "name": "stderr",
     "output_type": "stream",
     "text": [
      "/var/folders/rv/4pnymp6j7bd30dklzsj4ykr40000gn/T/ipykernel_68413/2660047324.py:6: DtypeWarning: Columns (15) have mixed types. Specify dtype option on import or set low_memory=False.\n",
      "  df2 = pd.read_csv('../FARS2019NationalCSV/Person.CSV', encoding=\"ISO-8859-1\")\n"
     ]
    }
   ],
   "source": [
    "# get fatalities of only when there are multiple people in vehicle\n",
    "df1 = pd.read_csv('../FARS2019NationalCSV/vehicle.csv', encoding=\"ISO-8859-1\")\n",
    "print(len(df1))\n",
    "df1 = df1.loc[df1['NUMOCCS'] > 1]\n",
    "print(len(df1))\n",
    "df2 = pd.read_csv('../FARS2019NationalCSV/Person.CSV', encoding=\"ISO-8859-1\")\n",
    "df2 = df2[df2['ST_CASE'].isin(df1['ST_CASE'].values.tolist())]\n",
    "df = df2.loc[df2['INJ_SEV'] == 4]\n",
    "print(df['INJ_SEV'][0:20])\n",
    "print(df['DOA'][0:20]) # dead on arrival\n",
    "print(len(df))"
   ]
  },
  {
   "cell_type": "markdown",
   "id": "fd361bfe",
   "metadata": {},
   "source": [
    "## Graphs about the dataset\n",
    "#### Graphs about time of crashes and time of death"
   ]
  },
  {
   "cell_type": "code",
   "execution_count": 4,
   "id": "a3c0f913",
   "metadata": {
    "scrolled": false
   },
   "outputs": [
    {
     "data": {
      "image/png": "[encoded data removed]",
      "text/plain": [
       "<Figure size 1000x500 with 2 Axes>"
      ]
     },
     "metadata": {},
     "output_type": "display_data"
    }
   ],
   "source": [
    "# create graph to display time of day crash occurred\n",
    "df_hour = df['HOUR']\n",
    "df_hour = df_hour.loc[df_hour <= 24] # dropout unknown crash times to get cleaner histogram\n",
    "\n",
    "df_unknown_hour = df['HOUR']\n",
    "df_unknown_hour = df_unknown_hour.loc[df_unknown_hour > 24]\n",
    "\n",
    "fig,ax = plt.subplots(1,2, figsize=(10,5))\n",
    "ax[0].hist(df_hour, range(0,25),edgecolor = \"black\")\n",
    "_,bins,_ = ax[1].hist(df_unknown_hour, edgecolor=\"black\")\n",
    "ax[1].set_xticks(bins);"
   ]
  },
  {
   "cell_type": "code",
   "execution_count": 5,
   "id": "ee08d198",
   "metadata": {},
   "outputs": [
    {
     "name": "stdout",
     "output_type": "stream",
     "text": [
      "[ 0  1  2  3  4  5  6  7  8  9 10 11 12 13 14 15 16 17 18 19 20 21 22 23\n",
      " 24]\n"
     ]
    },
    {
     "data": {
      "image/png": "[encoded data removed]",
      "text/plain": [
       "<Figure size 1000x500 with 2 Axes>"
      ]
     },
     "metadata": {},
     "output_type": "display_data"
    }
   ],
   "source": [
    "# graph of time of death -- including deaths on arrival\n",
    "df_hour = df['DEATH_HR']\n",
    "df_hour = df_hour.loc[df_hour <= 24] # dropout unknown crash times to get cleaner histogram\n",
    "\n",
    "df_unknown_hour = df['DEATH_HR']\n",
    "df_unknown_hour = df_unknown_hour.loc[df_unknown_hour > 24]\n",
    "\n",
    "fig,ax = plt.subplots(1,2, figsize=(10,5))\n",
    "_,bins,_ = ax[0].hist(df_hour, range(0,25),edgecolor = \"black\")\n",
    "print(bins)\n",
    "_,bins,_ = ax[1].hist(df_unknown_hour, edgecolor=\"black\")\n",
    "ax[1].set_xticks(bins);"
   ]
  },
  {
   "cell_type": "code",
   "execution_count": 6,
   "id": "547a974e",
   "metadata": {},
   "outputs": [
    {
     "name": "stdout",
     "output_type": "stream",
     "text": [
      "[ 0  1  2  3  4  5  6  7  8  9 10 11 12 13 14 15 16 17 18 19 20 21 22 23\n",
      " 24]\n"
     ]
    },
    {
     "data": {
      "image/png": "[encoded data removed]",
      "text/plain": [
       "<Figure size 1000x500 with 2 Axes>"
      ]
     },
     "metadata": {},
     "output_type": "display_data"
    }
   ],
   "source": [
    "# graph of time of death -- excluding deaths on arrival\n",
    "df_hour = df.loc[df['DOA'] != 7]\n",
    "df_hour = df_hour['DEATH_HR']\n",
    "df_hour = df_hour.loc[df_hour <= 24] # dropout unknown crash times to get cleaner histogram\n",
    "\n",
    "df_unknown_hour = df.loc[df['DOA'] != 7]\n",
    "df_unknown_hour = df['DEATH_HR']\n",
    "df_unknown_hour = df_unknown_hour.loc[df_unknown_hour > 24]\n",
    "\n",
    "fig,ax = plt.subplots(1,2, figsize=(10,5))\n",
    "_,bins,_ = ax[0].hist(df_hour, range(0,25),edgecolor = \"black\")\n",
    "print(bins)\n",
    "_,bins,_ = ax[1].hist(df_unknown_hour, edgecolor=\"black\")\n",
    "ax[1].set_xticks(bins);"
   ]
  },
  {
   "cell_type": "code",
   "execution_count": 10,
   "id": "be99d681",
   "metadata": {
    "scrolled": false
   },
   "outputs": [
    {
     "name": "stdout",
     "output_type": "stream",
     "text": [
      "Note:\n",
      "0 -- made it to hospital 6978.0 \n",
      "7 -- dead on arrival 9001.0 \n",
      "8 -- died in trasit 121.0 \n",
      "9 -- Unknown 25.0\n"
     ]
    },
    {
     "data": {
      "image/png": "[encoded data removed]",
      "text/plain": [
       "<Figure size 640x480 with 1 Axes>"
      ]
     },
     "metadata": {},
     "output_type": "display_data"
    }
   ],
   "source": [
    "# graph of Dead on Arrival\n",
    "arr = plt.hist(df['DOA'], range(0,11),edgecolor=\"black\")\n",
    "arr = arr[0]\n",
    "print('Note:\\n0 -- made it to hospital', arr[0], '\\n7 -- dead on arrival', arr[7], '\\n8 -- died in trasit', arr[8], '\\n9 -- Unknown', arr[9])"
   ]
  },
  {
   "cell_type": "markdown",
   "id": "1ae4c00c",
   "metadata": {},
   "source": [
    "#### ejection stats"
   ]
  },
  {
   "cell_type": "code",
   "execution_count": 18,
   "id": "ffb42b59",
   "metadata": {
    "scrolled": false
   },
   "outputs": [
    {
     "name": "stdout",
     "output_type": "stream",
     "text": [
      "[ 0  1  2  3  4  5  6  7  8  9 10]\n"
     ]
    },
    {
     "data": {
      "image/png": "[encoded data removed]",
      "text/plain": [
       "<Figure size 640x480 with 1 Axes>"
      ]
     },
     "metadata": {},
     "output_type": "display_data"
    }
   ],
   "source": [
    "# \n",
    "df_ejected = df['EJECTION']\n",
    "_,bins,_ = plt.hist(df_ejected, range(0,11),edgecolor = \"black\")\n",
    "print(bins)"
   ]
  },
  {
   "cell_type": "markdown",
   "id": "e68b10e6",
   "metadata": {},
   "source": [
    "### Print out some statistics about the dataset\n",
    "\n",
    "Look at individual statistics and see what can be used.\n",
    "\n",
    "> Need to narrow down some of the variables\n",
    "\n",
    "##### somethings to possible look at\n",
    "- the time of survival for ejections\n",
    "- how likely is someone to survive if they are ejected\n",
    "- heatmap that shows DOA, ejections, rollovers"
   ]
  },
  {
   "cell_type": "code",
   "execution_count": 50,
   "id": "a5a8ce20",
   "metadata": {},
   "outputs": [
    {
     "name": "stdout",
     "output_type": "stream",
     "text": [
      "mean:  1.021272365805169\n",
      "std:  3.3776265735595965\n",
      "var:  11.408361270415941\n"
     ]
    },
    {
     "data": {
      "image/png": "[encoded data removed]",
      "text/plain": [
       "<Figure size 640x480 with 1 Axes>"
      ]
     },
     "metadata": {},
     "output_type": "display_data"
    }
   ],
   "source": [
    "# cell is used to calculate survival time of all occurrances\n",
    "# structure of time MMDDHHMM\n",
    "df_crash_times = df.loc[df['HOUR'] != 99] # drop unknown times\n",
    "df_crash_times = df_crash_times.loc[(df_crash_times['DEATH_HR'] != 99) & (df_crash_times['DEATH_MO'] != 99) & (df_crash_times['DEATH_MN'] != 99)]\n",
    "# df_crash_times = pd.DataFrame(crash_dict)\n",
    "df_crash_times['combined'] = \"2019 \" + df_crash_times['MONTH'].astype(str) + \" \" + df_crash_times['DAY'].astype(str) + \" 2019 \" + df_crash_times['DEATH_MO'].astype(str) + \" \" + df_crash_times['DEATH_DA'].astype(str)# + \" \" + df_crash_times['HOUR'].astype(str) + \" \" + df_crash_times['MINUTE'].astype(str)\n",
    "\n",
    "crash_times = []\n",
    "day_diff = []\n",
    "for i in df_crash_times['combined']:\n",
    "    date_split = i.split()\n",
    "    day_diff.append((date(2019, int(date_split[4]), int(date_split[5])) - date(2019, int(date_split[1]), int(date_split[2]))).days)\n",
    "#     crash_times.append(datetime.timestamp(datetime.strptime(i, \"%Y %m %d %H %M\")))\n",
    "day_diff = np.array(day_diff)\n",
    "day_diff = day_diff[day_diff >= 0]\n",
    "\"\"\"\n",
    "df_crash_times['combined_death'] = \"2019 \" + df_crash_times['DEATH_MO'].astype(str) + \" \" + df_crash_times['DEATH_DA'].astype(str) + \" \" + df_crash_times['DEATH_HR'].astype(str) + \" \" + df_crash_times['DEATH_MN'].astype(str)\n",
    "death_times = []\n",
    "for i in df_crash_times['combined_death']:\n",
    "    death_times.append(datetime.timestamp(datetime.strptime(i, \"%Y %m %d %H %M\")))\n",
    "\n",
    "diff_times = []\n",
    "for i in range(0, len(death_times)):\n",
    "    print(death_times[i])\n",
    "    diff_times.append(date(death_times[i]) - date(crash_times[i]))\n",
    "\"\"\"\n",
    "plt.hist(day_diff, 30)\n",
    "plt.title(\"Survival Time\")\n",
    "print(\"mean: \", np.mean(day_diff))\n",
    "print(\"std: \", np.std(day_diff))\n",
    "print(\"var: \", np.var(day_diff))"
   ]
  },
  {
   "cell_type": "code",
   "execution_count": 22,
   "id": "5c4f9a45",
   "metadata": {},
   "outputs": [
    {
     "data": {
      "text/plain": [
       "count    16093.000000\n",
       "mean        43.108432\n",
       "std         22.001324\n",
       "min          0.000000\n",
       "25%         25.000000\n",
       "50%         40.000000\n",
       "75%         60.000000\n",
       "max        105.000000\n",
       "Name: AGE, dtype: float64"
      ]
     },
     "execution_count": 22,
     "metadata": {},
     "output_type": "execute_result"
    }
   ],
   "source": [
    "# average age \n",
    "df['AGE'].loc[df['AGE'] < 125].describe()"
   ]
  },
  {
   "cell_type": "code",
   "execution_count": 18,
   "id": "2010ca12",
   "metadata": {},
   "outputs": [
    {
     "name": "stdout",
     "output_type": "stream",
     "text": [
      "Note:\n",
      "0 -- made it to hospital\n",
      "7 -- dead on arrival\n",
      "8 -- died in trasit\n"
     ]
    },
    {
     "data": {
      "image/png": "[encoded data removed]",
      "text/plain": [
       "<Figure size 1000x300 with 2 Axes>"
      ]
     },
     "metadata": {},
     "output_type": "display_data"
    }
   ],
   "source": [
    "# amount of people who died at the scene after ejection\n",
    "df_fulleject = df.loc[(df['EJECTION'] == 2) & (df['DOA'] != 9)]\n",
    "fig,ax = plt.subplots(1,2, figsize=(10,3))\n",
    "print('Note:\\n0 -- made it to hospital\\n7 -- dead on arrival\\n8 -- died in trasit')\n",
    "ax[0].hist(df_fulleject['DOA'], range(0,10));\n",
    "ax[0].title.set_text('Full ejection')\n",
    "df_fulleject = df.loc[(df['EJECTION'] == 1) & (df['DOA'] != 9)]\n",
    "ax[1].hist(df_fulleject['DOA'], range(0,10));\n",
    "ax[1].title.set_text('Partial ejection')"
   ]
  },
  {
   "cell_type": "code",
   "execution_count": 27,
   "id": "f36b5d16",
   "metadata": {},
   "outputs": [
    {
     "name": "stdout",
     "output_type": "stream",
     "text": [
      "Note:\n",
      "0 -- made it to hospital\n",
      "7 -- dead on arrival\n",
      "8 -- died in trasit\n",
      "\n"
     ]
    },
    {
     "data": {
      "text/plain": [
       "<matplotlib.collections.PathCollection at 0x7f9e4ca6fb50>"
      ]
     },
     "execution_count": 27,
     "metadata": {},
     "output_type": "execute_result"
    },
    {
     "data": {
      "image/png": "[encoded data removed]",
      "text/plain": [
       "<Figure size 640x480 with 1 Axes>"
      ]
     },
     "metadata": {},
     "output_type": "display_data"
    }
   ],
   "source": [
    "# display simple stats about collision location and death rate\n",
    "df_collision = df.loc[(df['IMPACT1'] != 0) & (df['IMPACT1'] != np.NaN) & (df['IMPACT1'] != 99) & (df['IMPACT1'] != 98) & (df['DOA'] != 9)]\n",
    "print('x-axis:\\n0 -- made it to hospital\\n7 -- dead on arrival\\n8 -- died in trasit\\n')\n",
    "print('\\ny-axis:\\n')\n",
    "plt.scatter(df_collision['DOA'],df_collision['IMPACT1'])"
   ]
  },
  {
   "cell_type": "markdown",
   "id": "c14225dc",
   "metadata": {},
   "source": [
    "## Get severely injured occupants of vehicles but survived"
   ]
  },
  {
   "cell_type": "code",
   "execution_count": 12,
   "id": "82bf5754",
   "metadata": {},
   "outputs": [
    {
     "name": "stderr",
     "output_type": "stream",
     "text": [
      "/var/folders/rv/4pnymp6j7bd30dklzsj4ykr40000gn/T/ipykernel_67949/2705294315.py:2: DtypeWarning: Columns (56,58,193,195) have mixed types. Specify dtype option on import or set low_memory=False.\n",
      "  df1 = pd.read_csv('../FARS2019NationalCSV/vehicle.csv', encoding=\"ISO-8859-1\")\n"
     ]
    },
    {
     "name": "stdout",
     "output_type": "stream",
     "text": [
      "15711\n",
      "0     10001\n",
      "2     10001\n",
      "5     10003\n",
      "7     10003\n",
      "8     10003\n",
      "14    10007\n",
      "15    10007\n",
      "16    10007\n",
      "17    10007\n",
      "22    10010\n",
      "24    10011\n",
      "25    10011\n",
      "47    10023\n",
      "48    10023\n",
      "65    10033\n",
      "66    10033\n",
      "67    10033\n",
      "77    10042\n",
      "79    10042\n",
      "80    10043\n",
      "Name: ST_CASE, dtype: int64\n",
      "0     3\n",
      "2     1\n",
      "5     2\n",
      "7     0\n",
      "8     0\n",
      "14    2\n",
      "15    3\n",
      "16    1\n",
      "17    1\n",
      "22    0\n",
      "24    2\n",
      "25    3\n",
      "47    1\n",
      "48    3\n",
      "65    1\n",
      "66    0\n",
      "67    0\n",
      "77    3\n",
      "79    3\n",
      "80    0\n",
      "Name: INJ_SEV, dtype: int64\n",
      "0     0\n",
      "2     0\n",
      "5     0\n",
      "7     0\n",
      "8     0\n",
      "14    0\n",
      "15    0\n",
      "16    0\n",
      "17    0\n",
      "22    0\n",
      "24    0\n",
      "25    0\n",
      "47    0\n",
      "48    0\n",
      "65    0\n",
      "66    0\n",
      "67    0\n",
      "77    0\n",
      "79    0\n",
      "80    0\n",
      "Name: DOA, dtype: int64\n",
      "32862\n"
     ]
    },
    {
     "name": "stderr",
     "output_type": "stream",
     "text": [
      "/var/folders/rv/4pnymp6j7bd30dklzsj4ykr40000gn/T/ipykernel_67949/2705294315.py:5: DtypeWarning: Columns (15) have mixed types. Specify dtype option on import or set low_memory=False.\n",
      "  df2 = pd.read_csv('../FARS2019NationalCSV/Person.CSV', encoding=\"ISO-8859-1\")\n"
     ]
    }
   ],
   "source": [
    "# get fatalities of only when there are multiple people in vehicle\n",
    "df1 = pd.read_csv('../FARS2019NationalCSV/vehicle.csv', encoding=\"ISO-8859-1\")\n",
    "df1 = df1.loc[df1['NUMOCCS'] > 1]\n",
    "df2 = pd.read_csv('../FARS2019NationalCSV/Person.CSV', encoding=\"ISO-8859-1\")\n",
    "df2 = df2[df2['ST_CASE'].isin(df1['ST_CASE'].values.tolist())]\n",
    "df_survived = df2.loc[(df2['INJ_SEV'] == 2) | (df2['INJ_SEV'] == 3) | (df2['INJ_SEV'] == 0) | (df2['INJ_SEV'] == 1)]\n",
    "print(df_survived['ST_CASE'][0:20])\n",
    "print(df_survived['INJ_SEV'][0:20])\n",
    "print(df_survived['DOA'][0:20]) # dead on arrival\n",
    "print(len(df_survived))"
   ]
  },
  {
   "cell_type": "markdown",
   "id": "5f57cb98",
   "metadata": {},
   "source": [
    "### Data Notes\n",
    "\n",
    "Things that might be helpful to use as variable\n",
    "\n",
    "- collision location\n",
    "- rollover\n",
    "- ejection\n",
    "- speed if available\n",
    "- airbag deployed or not\n"
   ]
  },
  {
   "cell_type": "code",
   "execution_count": null,
   "id": "68d35876",
   "metadata": {},
   "outputs": [],
   "source": []
  }
 ],
 "metadata": {
  "kernelspec": {
   "display_name": "Python 3 (ipykernel)",
   "language": "python",
   "name": "python3"
  },
  "language_info": {
   "codemirror_mode": {
    "name": "ipython",
    "version": 3
   },
   "file_extension": ".py",
   "mimetype": "text/x-python",
   "name": "python",
   "nbconvert_exporter": "python",
   "pygments_lexer": "ipython3",
   "version": "3.9.13"
  }
 },
 "nbformat": 4,
 "nbformat_minor": 5
}
