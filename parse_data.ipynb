{
 "cells": [
  {
   "cell_type": "code",
   "execution_count": 1,
   "id": "18af7b3d",
   "metadata": {},
   "outputs": [],
   "source": [
    "%matplotlib inline\n",
    "import matplotlib.pyplot as plt\n",
    "import pandas as pd\n",
    "import numpy as np\n",
    "from datetime import datetime, date\n",
    "import time\n",
    "import csv"
   ]
  },
  {
   "cell_type": "code",
   "execution_count": null,
   "id": "f53c10b6",
   "metadata": {},
   "outputs": [],
   "source": [
    "# sanity check get total number of fatalities\n",
    "df = pd.read_csv('../FARS2018NationalCSV/Person.CSV', encoding=\"ISO-8859-1\")\n",
    "df = df.loc[df['INJ_SEV'] == 4]\n",
    "print(len(df))\n",
    "df.head(5)\n",
    "df = pd.read_csv('../FARS2018NationalCSV/accident.CSV', encoding=\"ISO-8859-1\")\n",
    "print(len(df))\n",
    "\n",
    "\n",
    "\n",
    "# get fatalities of only when there are multiple people in vehicle\n",
    "df1 = pd.read_csv('../FARS2018NationalCSV/vehicle.csv', encoding=\"ISO-8859-1\")\n",
    "print(len(df1))\n",
    "df1 = df1.loc[df1['NUMOCCS'] > 1]\n",
    "print(len(df1))\n",
    "df2 = pd.read_csv('../FARS2018NationalCSV/Person.CSV', encoding=\"ISO-8859-1\")\n",
    "df2 = df2[df2['ST_CASE'].isin(df1['ST_CASE'].values.tolist())]\n",
    "df = df2.loc[df2['INJ_SEV'] == 4]\n",
    "print(df['INJ_SEV'][0:20])\n",
    "print(df['DOA'][0:20]) # dead on arrival\n",
    "print(len(df))\n",
    "\n"
   ]
  },
  {
   "cell_type": "markdown",
   "id": "fd6926d2",
   "metadata": {},
   "source": [
    "### Create Dataframe\n",
    "\n",
    "Parses the CSV files and creates a dataframe with all the fatalities"
   ]
  },
  {
   "cell_type": "code",
   "execution_count": 27,
   "id": "857e1bd2",
   "metadata": {
    "scrolled": true
   },
   "outputs": [],
   "source": [
    "# manually get all the events\n",
    "def create_dataframe():\n",
    "    with open('../FARS2018NationalCSV/vehicle.csv', mode ='r', encoding='mac_roman') as v_file, open('../FARS2018NationalCSV/person.csv', mode='r', encoding='mac_roman') as p_file:\n",
    "        csvFile = csv.reader(v_file)\n",
    "        state_cases = []\n",
    "        vehicle_cases = []\n",
    "        v_labels = None\n",
    "        for line in csvFile:\n",
    "            if v_labels == None:\n",
    "                v_labels = line\n",
    "                continue\n",
    "            num_occs = int(line[5].strip())\n",
    "            num_deaths = int(line[188].strip())\n",
    "            if num_occs > 1 and num_occs < 98 and num_deaths > 0:\n",
    "                # add to list\n",
    "                state_cases.append(line[2])\n",
    "                vehicle_cases.append(line)\n",
    "        print(len(state_cases))\n",
    "        csvFile = csv.reader(p_file)\n",
    "        people_list = []\n",
    "        label_list = None\n",
    "        for line in csvFile:\n",
    "            if label_list == None:\n",
    "                label_list = line\n",
    "                continue\n",
    "            # check statecase and then check if they died\n",
    "            if line[2] in state_cases and int(line[52]) == 4 and (int(line[50]) == 1 or int(line[50]) == 2):\n",
    "                people_list.append(line)\n",
    "\n",
    "    # read into a dataframe\n",
    "    return pd.DataFrame(people_list, columns=label_list), pd.DataFrame(vehicle_cases, columns=v_labels)"
   ]
  },
  {
   "cell_type": "code",
   "execution_count": null,
   "id": "31945854",
   "metadata": {
    "scrolled": false
   },
   "outputs": [],
   "source": [
    "# get fatalities of only when there are multiple people in vehicle\n",
    "df1 = pd.read_csv('../FARS2018NationalCSV/vehicle.csv', encoding=\"ISO-8859-1\")\n",
    "print(len(df1))\n",
    "df1 = df1.loc[(df1['NUMOCCS'] > 1) & (df1['DEATHS'] > 0)]\n",
    "print(len(df1['ST_CASE']))\n",
    "df2 = pd.read_csv('../FARS2018NationalCSV/Person.CSV', encoding=\"ISO-8859-1\")\n",
    "df2 = df2[df2['ST_CASE'].isin(df1['ST_CASE'].values.tolist())]\n",
    "df = df2.loc[df2['INJ_SEV'] == 4]\n",
    "print(df['INJ_SEV'][0:20])\n",
    "print(df['DOA'][0:20]) # dead on arrival\n",
    "print(len(df))\n",
    "print(df['ST_CASE'][0:30])\n",
    "\n",
    "print(df1['ST_CASE'][0:30])"
   ]
  },
  {
   "cell_type": "markdown",
   "id": "fd361bfe",
   "metadata": {},
   "source": [
    "## Graphs about the dataset\n",
    "#### Graphs about time of crashes and time of death"
   ]
  },
  {
   "cell_type": "code",
   "execution_count": null,
   "id": "a3c0f913",
   "metadata": {
    "scrolled": false
   },
   "outputs": [],
   "source": [
    "# create graph to display time of day crash occurred\n",
    "df_hour = df['HOUR'].astype('int')\n",
    "df_hour = df_hour.loc[df_hour <= 24] # dropout unknown crash times to get cleaner histogram\n",
    "\n",
    "df_unknown_hour = df['HOUR'].astype('int')\n",
    "df_unknown_hour = df_unknown_hour.loc[df_unknown_hour > 24]\n",
    "\n",
    "fig,ax = plt.subplots(1,2, figsize=(10,5))\n",
    "ax[0].hist(df_hour, range(0,25),edgecolor = \"black\")\n",
    "_,bins,_ = ax[1].hist(df_unknown_hour, edgecolor=\"black\")\n",
    "ax[1].set_xticks(bins);"
   ]
  },
  {
   "cell_type": "code",
   "execution_count": null,
   "id": "ee08d198",
   "metadata": {},
   "outputs": [],
   "source": [
    "# graph of time of death -- including deaths on arrival\n",
    "df_hour = df['DEATH_HR'].astype('int')\n",
    "df_hour = df_hour.loc[df_hour <= 24] # dropout unknown crash times to get cleaner histogram\n",
    "\n",
    "df_unknown_hour = df['DEATH_HR'].astype('int')\n",
    "df_unknown_hour = df_unknown_hour.loc[df_unknown_hour > 24]\n",
    "\n",
    "fig,ax = plt.subplots(1,2, figsize=(10,5))\n",
    "_,bins,_ = ax[0].hist(df_hour, range(0,25),edgecolor = \"black\")\n",
    "print(bins)\n",
    "_,bins,_ = ax[1].hist(df_unknown_hour, edgecolor=\"black\")\n",
    "ax[1].set_xticks(bins);"
   ]
  },
  {
   "cell_type": "code",
   "execution_count": null,
   "id": "547a974e",
   "metadata": {},
   "outputs": [],
   "source": [
    "# graph of time of death -- excluding deaths on arrival\n",
    "df_hour = df.loc[df['DOA'].astype('int') != 7]\n",
    "df_hour = df_hour['DEATH_HR'].astype('int')\n",
    "df_hour = df_hour.loc[df_hour <= 24] # dropout unknown crash times to get cleaner histogram\n",
    "\n",
    "df_unknown_hour = df.loc[df['DOA'].astype('int') != 7]\n",
    "df_unknown_hour = df['DEATH_HR'].astype('int')\n",
    "df_unknown_hour = df_unknown_hour.loc[df_unknown_hour > 24]\n",
    "\n",
    "fig,ax = plt.subplots(1,2, figsize=(10,5))\n",
    "_,bins,_ = ax[0].hist(df_hour, range(0,25),edgecolor = \"black\")\n",
    "print(bins)\n",
    "_,bins,_ = ax[1].hist(df_unknown_hour, edgecolor=\"black\")\n",
    "ax[1].set_xticks(bins);"
   ]
  },
  {
   "cell_type": "code",
   "execution_count": null,
   "id": "be99d681",
   "metadata": {
    "scrolled": false
   },
   "outputs": [],
   "source": [
    "# graph of Dead on Arrival\n",
    "arr = plt.hist(df['DOA'].astype('int'), range(0,11),edgecolor=\"black\")\n",
    "arr = arr[0]\n",
    "print('Note:\\n0 -- made it to hospital', arr[0], '\\n7 -- dead on arrival', arr[7], '\\n8 -- died in transit', arr[8], '\\n9 -- Unknown', arr[9])"
   ]
  },
  {
   "cell_type": "markdown",
   "id": "39c0e0d8",
   "metadata": {},
   "source": [
    "#### ejection stats"
   ]
  },
  {
   "cell_type": "code",
   "execution_count": null,
   "id": "96a515d8",
   "metadata": {
    "scrolled": false
   },
   "outputs": [],
   "source": [
    "# \n",
    "df_ejected = df['EJECTION'].astype('int')\n",
    "_,bins,_ = plt.hist(df_ejected, range(0,11),edgecolor = \"black\")\n",
    "print(bins)"
   ]
  },
  {
   "cell_type": "markdown",
   "id": "e68b10e6",
   "metadata": {},
   "source": [
    "### Print out some statistics about the dataset\n",
    "\n",
    "Look at individual statistics and see what can be used.\n",
    "\n",
    "> Need to narrow down some of the variables\n",
    "\n",
    "##### somethings to possible look at\n",
    "- the time of survival for ejections\n",
    "- how likely is someone to survive if they are ejected\n",
    "- heatmap that shows DOA, ejections, rollovers"
   ]
  },
  {
   "cell_type": "code",
   "execution_count": null,
   "id": "b2e39fff",
   "metadata": {},
   "outputs": [],
   "source": [
    "# cell is used to calculate survival time of all occurrances\n",
    "# structure of time MMDDHHMM\n",
    "df_crash_times = df.loc[df['HOUR'] != 99] # drop unknown times\n",
    "df_crash_times = df_crash_times.loc[(df_crash_times['DEATH_HR'] != 99) & (df_crash_times['DEATH_MO'] != 99) & (df_crash_times['DEATH_MN'] != 99)]\n",
    "# df_crash_times = pd.DataFrame(crash_dict)\n",
    "df_crash_times['combined'] = \"2018 \" + df_crash_times['MONTH'].astype(str) + \" \" + df_crash_times['DAY'].astype(str) + \" 2018 \" + df_crash_times['DEATH_MO'].astype(str) + \" \" + df_crash_times['DEATH_DA'].astype(str)# + \" \" + df_crash_times['HOUR'].astype(str) + \" \" + df_crash_times['MINUTE'].astype(str)\n",
    "\n",
    "crash_times = []\n",
    "day_diff = []\n",
    "for i in df_crash_times['combined']:\n",
    "    date_split = i.split()\n",
    "    day_diff.append((date(2018, int(date_split[4]), int(date_split[5])) - date(2018, int(date_split[1]), int(date_split[2]))).days)\n",
    "#     crash_times.append(datetime.timestamp(datetime.strptime(i, \"%Y %m %d %H %M\")))\n",
    "day_diff = np.array(day_diff)\n",
    "day_diff = day_diff[day_diff >= 0]\n",
    "\n",
    "\"\"\"\n",
    "df_crash_times['combined_death'] = \"2018 \" + df_crash_times['DEATH_MO'].astype(str) + \" \" + df_crash_times['DEATH_DA'].astype(str) + \" \" + df_crash_times['DEATH_HR'].astype(str) + \" \" + df_crash_times['DEATH_MN'].astype(str)\n",
    "death_times = []\n",
    "for i in df_crash_times['combined_death']:\n",
    "    death_times.append(datetime.timestamp(datetime.strptime(i, \"%Y %m %d %H %M\")))\n",
    "\n",
    "diff_times = []\n",
    "for i in range(0, len(death_times)):\n",
    "    print(death_times[i])\n",
    "    diff_times.append(date(death_times[i]) - date(crash_times[i]))\n",
    "\"\"\"\n",
    "\n",
    "plt.hist(day_diff, 30)\n",
    "plt.title(\"Survival Time\")\n",
    "print(\"mean: \", np.mean(day_diff))\n",
    "print(\"std: \", np.std(day_diff))\n",
    "print(\"var: \", np.var(day_diff))"
   ]
  },
  {
   "cell_type": "code",
   "execution_count": null,
   "id": "7ebe0bd3",
   "metadata": {},
   "outputs": [],
   "source": [
    "# new way to get survival time -- using lag\n",
    "lag_hrs = df['LAG_HRS'].astype('int') + df['LAG_MINS'].astype('int') / 60\n",
    "lag_hrs = lag_hrs[lag_hrs < 900] # drop out unknowns\n",
    "plt.hist(lag_hrs)\n",
    "plt.title(\"Survival Time\")\n",
    "print('mean = ', np.mean(lag_hrs))\n",
    "print('std = ', np.std(lag_hrs))"
   ]
  },
  {
   "cell_type": "code",
   "execution_count": null,
   "id": "04843571",
   "metadata": {},
   "outputs": [],
   "source": [
    "# average age \n",
    "df['AGE'].loc[df['AGE'] < 125].describe()"
   ]
  },
  {
   "cell_type": "code",
   "execution_count": null,
   "id": "2481c9e9",
   "metadata": {},
   "outputs": [],
   "source": [
    "# amount of people who died at the scene after ejection\n",
    "df_fulleject = df.loc[(df['EJECTION'] == 2) & (df['DOA'] != 9)]\n",
    "fig,ax = plt.subplots(1,2, figsize=(10,3))\n",
    "print('Note:\\n0 -- made it to hospital\\n7 -- dead on arrival\\n8 -- died in trasit')\n",
    "ax[0].hist(df_fulleject['DOA'], range(0,10));\n",
    "ax[0].title.set_text('Full ejection')\n",
    "df_fulleject = df.loc[(df['EJECTION'] == 1) & (df['DOA'] != 9)]\n",
    "ax[1].hist(df_fulleject['DOA'], range(0,10));\n",
    "ax[1].title.set_text('Partial ejection')"
   ]
  },
  {
   "cell_type": "code",
   "execution_count": null,
   "id": "6c3e9bd9",
   "metadata": {},
   "outputs": [],
   "source": [
    "# display simple stats about collision location and death rate\n",
    "df_collision = df.loc[(df['IMPACT1'] != 0) & (df['IMPACT1'] != np.NaN) & (df['IMPACT1'] != 99) & (df['IMPACT1'] != 98) & (df['DOA'] != 9)]\n",
    "print('x-axis:\\n0 -- made it to hospital\\n7 -- dead on arrival\\n8 -- died in trasit\\n')\n",
    "print('\\ny-axis:\\n')\n",
    "plt.scatter(df_collision['DOA'],df_collision['IMPACT1'])"
   ]
  },
  {
   "cell_type": "markdown",
   "id": "c14225dc",
   "metadata": {},
   "source": [
    "## Get severely injured occupants of vehicles but survived"
   ]
  },
  {
   "cell_type": "code",
   "execution_count": null,
   "id": "82bf5754",
   "metadata": {},
   "outputs": [],
   "source": [
    "# get fatalities of only when there are multiple people in vehicle\n",
    "df1 = pd.read_csv('../FARS2018NationalCSV/vehicle.csv', encoding=\"ISO-8859-1\")\n",
    "df1 = df1.loc[df1['NUMOCCS'] > 1]\n",
    "df2 = pd.read_csv('../FARS2018NationalCSV/Person.CSV', encoding=\"ISO-8859-1\")\n",
    "df2 = df2[df2['ST_CASE'].isin(df1['ST_CASE'].values.tolist())]\n",
    "df_survived = df2.loc[(df2['INJ_SEV'] == 2) | (df2['INJ_SEV'] == 3) | (df2['INJ_SEV'] == 0) | (df2['INJ_SEV'] == 1)]\n",
    "print(df_survived['ST_CASE'][0:20])\n",
    "print(df_survived['INJ_SEV'][0:20])\n",
    "print(df_survived['DOA'][0:20]) # dead on arrival\n",
    "print(len(df_survived))"
   ]
  },
  {
   "cell_type": "markdown",
   "id": "5ab8b860",
   "metadata": {},
   "source": [
    "### Data Notes\n",
    "\n",
    "Things that might be helpful to use as variable\n",
    "\n",
    "- collision location\n",
    "- rollover\n",
    "- ejection\n",
    "- speed if available\n",
    "- airbag deployed or not\n",
    "- seatbelt usage\n",
    "\n",
    "\n",
    "### Possible Methods\n",
    "\n",
    "There are a couple approaches that could be taken for survival time. The response variable will be the survival time which can be found in plots above\n",
    "\n",
    "- split into bins\n",
    " - 4 bins of ≈7\n",
    " - use 31 bins\n",
    " \n",
    "#### Regression methods\n",
    "\n",
    "each of these methods will be continuous variable\n",
    "\n",
    "- neural network -- most likely will use\n",
    "- straight linear regression\n",
    "\n",
    "#### Feature selection\n",
    "\n",
    "- sklearn feature selection\n",
    "- wrapper method\n",
    "- filter method\n",
    "\n",
    "### Explainable ML tools\n",
    "\n",
    "- shap\n"
   ]
  },
  {
   "cell_type": "code",
   "execution_count": 4,
   "id": "3856f7ce",
   "metadata": {},
   "outputs": [],
   "source": [
    "def get_dataframe(fn, case_list):\n",
    "    with open(fn, mode ='r', encoding='mac_roman') as file:\n",
    "        csvFile = csv.reader(file)\n",
    "        contents = []\n",
    "        label_list = None\n",
    "        for line in csvFile:\n",
    "            if label_list == None:\n",
    "                label_list = line\n",
    "                continue\n",
    "            if int(line[2]) in case_list:\n",
    "                contents.append(line)\n",
    "    # return dataframe\n",
    "    return pd.DataFrame(contents, columns=label_list)"
   ]
  },
  {
   "cell_type": "code",
   "execution_count": 28,
   "id": "c84f2772",
   "metadata": {},
   "outputs": [
    {
     "name": "stdout",
     "output_type": "stream",
     "text": [
      "8502\n"
     ]
    }
   ],
   "source": [
    "# get dataframe of people -- takes a second\n",
    "df_person, df_v = create_dataframe()\n",
    "st_case = df_person['ST_CASE'].astype('int').to_numpy()\n",
    "df_acc = get_dataframe('../FARS2018NationalCSV/accident.csv', st_case)"
   ]
  },
  {
   "cell_type": "code",
   "execution_count": null,
   "id": "43b28b7d",
   "metadata": {},
   "outputs": [],
   "source": [
    "# combine to make one large dataframe\n",
    "df_acc[[\"RUR_URB\",\"MAN_COLL\",\"TYP_INT\",\"NOT_HOUR\",\"NOT_MIN\",\"ARR_HOUR\",\"ARR_MIN\",\"LGT_COND\"]]\n",
    "df_v[[\"TRAV_SP\",\"UNDERIDE\",\"ROLLOVER\",\"IMPACT1\",\"DEFORMED\",\"VTRAFWAY\",\"VNUM_LAN\",\"VALIGN\",\"VPROFILE\",\"VPAVETYP\",\"VSURCOND\",\"P_CRASH1\",\"P_CRASH3\",\"PCRASH4\",\"TRAV_SP\", \"ACC_TYPE\"]]\n",
    "df_person[[\"AGE\",\"SEX\",\"SEAT_POS\",\"REST_USE\",\"AIR_BAG\", \"EXTRICAT\",\"EJECTION\",\"EJ_PATH\",\"EXTRICAT\",\"DRINKING\",\"DRUGS\",\"HOSPITAL\"]]"
   ]
  },
  {
   "cell_type": "markdown",
   "id": "e4ccc1a2",
   "metadata": {},
   "source": [
    "#### todo\n",
    "\n",
    "- add in extra files that are missing\n",
    "- need to convert to minutes instead of hours\n",
    " - change notification time and arrivial time\n",
    "\n",
    "## plan\n",
    "\n",
    "- equal splitting of testing and training\n",
    " - so there are outliers in both\n",
    "- feature selection\n",
    " - use random forest to select features\n",
    "- train model\n",
    " - using multinomial logistic regression\n",
    " - use sklearn.linear_model.LogisticRegression\n",
    "\n"
   ]
  },
  {
   "cell_type": "code",
   "execution_count": null,
   "id": "6e1bb35f",
   "metadata": {},
   "outputs": [],
   "source": []
  }
 ],
 "metadata": {
  "kernelspec": {
   "display_name": "Python 3 (ipykernel)",
   "language": "python",
   "name": "python3"
  },
  "language_info": {
   "codemirror_mode": {
    "name": "ipython",
    "version": 3
   },
   "file_extension": ".py",
   "mimetype": "text/x-python",
   "name": "python",
   "nbconvert_exporter": "python",
   "pygments_lexer": "ipython3",
   "version": "3.9.13"
  }
 },
 "nbformat": 4,
 "nbformat_minor": 5
}
